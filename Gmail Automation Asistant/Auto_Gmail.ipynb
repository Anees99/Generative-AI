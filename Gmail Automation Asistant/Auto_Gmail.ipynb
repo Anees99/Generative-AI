{
 "cells": [
  {
   "cell_type": "markdown",
   "id": "3158a726",
   "metadata": {},
   "source": [
    "# Gmail AI-Assistant"
   ]
  },
  {
   "cell_type": "markdown",
   "id": "ac5786e6",
   "metadata": {},
   "source": [
    "### Installing necessary libraries"
   ]
  },
  {
   "cell_type": "code",
   "execution_count": 1,
   "id": "007eb6ca",
   "metadata": {},
   "outputs": [
    {
     "name": "stdout",
     "output_type": "stream",
     "text": [
      "Defaulting to user installation because normal site-packages is not writeable\n",
      "Requirement already satisfied: google-auth in c:\\users\\global it store\\appdata\\roaming\\python\\python311\\site-packages (2.40.2)\n",
      "Requirement already satisfied: google-auth-oauthlib in c:\\users\\global it store\\appdata\\roaming\\python\\python311\\site-packages (1.2.2)\n",
      "Requirement already satisfied: google-auth-httplib2 in c:\\users\\global it store\\appdata\\roaming\\python\\python311\\site-packages (0.2.0)\n",
      "Requirement already satisfied: google-api-python-client in c:\\users\\global it store\\appdata\\roaming\\python\\python311\\site-packages (2.170.0)\n",
      "Requirement already satisfied: transformers in c:\\users\\global it store\\appdata\\roaming\\python\\python311\\site-packages (4.52.4)\n",
      "Requirement already satisfied: openai in c:\\users\\global it store\\appdata\\roaming\\python\\python311\\site-packages (1.82.1)\n",
      "Requirement already satisfied: cachetools<6.0,>=2.0.0 in c:\\users\\global it store\\appdata\\roaming\\python\\python311\\site-packages (from google-auth) (5.5.2)\n",
      "Requirement already satisfied: pyasn1-modules>=0.2.1 in c:\\programdata\\anaconda3\\lib\\site-packages (from google-auth) (0.2.8)\n",
      "Requirement already satisfied: rsa<5,>=3.1.4 in c:\\users\\global it store\\appdata\\roaming\\python\\python311\\site-packages (from google-auth) (4.9.1)\n",
      "Requirement already satisfied: requests-oauthlib>=0.7.0 in c:\\users\\global it store\\appdata\\roaming\\python\\python311\\site-packages (from google-auth-oauthlib) (2.0.0)\n",
      "Requirement already satisfied: httplib2>=0.19.0 in c:\\users\\global it store\\appdata\\roaming\\python\\python311\\site-packages (from google-auth-httplib2) (0.22.0)\n",
      "Requirement already satisfied: google-api-core!=2.0.*,!=2.1.*,!=2.2.*,!=2.3.0,<3.0.0,>=1.31.5 in c:\\users\\global it store\\appdata\\roaming\\python\\python311\\site-packages (from google-api-python-client) (2.24.2)\n",
      "Requirement already satisfied: uritemplate<5,>=3.0.1 in c:\\users\\global it store\\appdata\\roaming\\python\\python311\\site-packages (from google-api-python-client) (4.1.1)\n",
      "Requirement already satisfied: filelock in c:\\programdata\\anaconda3\\lib\\site-packages (from transformers) (3.9.0)\n",
      "Requirement already satisfied: huggingface-hub<1.0,>=0.30.0 in c:\\users\\global it store\\appdata\\roaming\\python\\python311\\site-packages (from transformers) (0.32.3)\n",
      "Requirement already satisfied: numpy>=1.17 in c:\\users\\global it store\\appdata\\roaming\\python\\python311\\site-packages (from transformers) (1.26.4)\n",
      "Requirement already satisfied: packaging>=20.0 in c:\\users\\global it store\\appdata\\roaming\\python\\python311\\site-packages (from transformers) (24.2)\n",
      "Requirement already satisfied: pyyaml>=5.1 in c:\\programdata\\anaconda3\\lib\\site-packages (from transformers) (6.0)\n",
      "Requirement already satisfied: regex!=2019.12.17 in c:\\programdata\\anaconda3\\lib\\site-packages (from transformers) (2022.7.9)\n",
      "Requirement already satisfied: requests in c:\\programdata\\anaconda3\\lib\\site-packages (from transformers) (2.31.0)\n",
      "Requirement already satisfied: tokenizers<0.22,>=0.21 in c:\\users\\global it store\\appdata\\roaming\\python\\python311\\site-packages (from transformers) (0.21.1)\n",
      "Requirement already satisfied: safetensors>=0.4.3 in c:\\users\\global it store\\appdata\\roaming\\python\\python311\\site-packages (from transformers) (0.5.3)\n",
      "Requirement already satisfied: tqdm>=4.27 in c:\\programdata\\anaconda3\\lib\\site-packages (from transformers) (4.65.0)\n",
      "Requirement already satisfied: anyio<5,>=3.5.0 in c:\\programdata\\anaconda3\\lib\\site-packages (from openai) (3.5.0)\n",
      "Requirement already satisfied: distro<2,>=1.7.0 in c:\\users\\global it store\\appdata\\roaming\\python\\python311\\site-packages (from openai) (1.9.0)\n",
      "Requirement already satisfied: httpx<1,>=0.23.0 in c:\\users\\global it store\\appdata\\roaming\\python\\python311\\site-packages (from openai) (0.28.1)\n",
      "Requirement already satisfied: jiter<1,>=0.4.0 in c:\\users\\global it store\\appdata\\roaming\\python\\python311\\site-packages (from openai) (0.10.0)\n",
      "Requirement already satisfied: pydantic<3,>=1.9.0 in c:\\users\\global it store\\appdata\\roaming\\python\\python311\\site-packages (from openai) (2.11.5)\n",
      "Requirement already satisfied: sniffio in c:\\programdata\\anaconda3\\lib\\site-packages (from openai) (1.2.0)\n",
      "Requirement already satisfied: typing-extensions<5,>=4.11 in c:\\users\\global it store\\appdata\\roaming\\python\\python311\\site-packages (from openai) (4.13.2)\n",
      "Requirement already satisfied: idna>=2.8 in c:\\programdata\\anaconda3\\lib\\site-packages (from anyio<5,>=3.5.0->openai) (3.4)\n",
      "Requirement already satisfied: googleapis-common-protos<2.0.0,>=1.56.2 in c:\\users\\global it store\\appdata\\roaming\\python\\python311\\site-packages (from google-api-core!=2.0.*,!=2.1.*,!=2.2.*,!=2.3.0,<3.0.0,>=1.31.5->google-api-python-client) (1.70.0)\n",
      "Requirement already satisfied: protobuf!=3.20.0,!=3.20.1,!=4.21.0,!=4.21.1,!=4.21.2,!=4.21.3,!=4.21.4,!=4.21.5,<7.0.0,>=3.19.5 in c:\\users\\global it store\\appdata\\roaming\\python\\python311\\site-packages (from google-api-core!=2.0.*,!=2.1.*,!=2.2.*,!=2.3.0,<3.0.0,>=1.31.5->google-api-python-client) (6.31.1)\n",
      "Requirement already satisfied: proto-plus<2.0.0,>=1.22.3 in c:\\users\\global it store\\appdata\\roaming\\python\\python311\\site-packages (from google-api-core!=2.0.*,!=2.1.*,!=2.2.*,!=2.3.0,<3.0.0,>=1.31.5->google-api-python-client) (1.26.1)\n",
      "Requirement already satisfied: pyparsing!=3.0.0,!=3.0.1,!=3.0.2,!=3.0.3,<4,>=2.4.2 in c:\\programdata\\anaconda3\\lib\\site-packages (from httplib2>=0.19.0->google-auth-httplib2) (3.0.9)\n",
      "Requirement already satisfied: certifi in c:\\programdata\\anaconda3\\lib\\site-packages (from httpx<1,>=0.23.0->openai) (2023.7.22)\n",
      "Requirement already satisfied: httpcore==1.* in c:\\users\\global it store\\appdata\\roaming\\python\\python311\\site-packages (from httpx<1,>=0.23.0->openai) (1.0.9)\n",
      "Requirement already satisfied: h11>=0.16 in c:\\users\\global it store\\appdata\\roaming\\python\\python311\\site-packages (from httpcore==1.*->httpx<1,>=0.23.0->openai) (0.16.0)\n",
      "Requirement already satisfied: fsspec>=2023.5.0 in c:\\users\\global it store\\appdata\\roaming\\python\\python311\\site-packages (from huggingface-hub<1.0,>=0.30.0->transformers) (2025.5.1)\n",
      "Requirement already satisfied: pyasn1<0.5.0,>=0.4.6 in c:\\programdata\\anaconda3\\lib\\site-packages (from pyasn1-modules>=0.2.1->google-auth) (0.4.8)\n",
      "Requirement already satisfied: annotated-types>=0.6.0 in c:\\users\\global it store\\appdata\\roaming\\python\\python311\\site-packages (from pydantic<3,>=1.9.0->openai) (0.7.0)\n",
      "Requirement already satisfied: pydantic-core==2.33.2 in c:\\users\\global it store\\appdata\\roaming\\python\\python311\\site-packages (from pydantic<3,>=1.9.0->openai) (2.33.2)\n",
      "Requirement already satisfied: typing-inspection>=0.4.0 in c:\\users\\global it store\\appdata\\roaming\\python\\python311\\site-packages (from pydantic<3,>=1.9.0->openai) (0.4.1)\n",
      "Requirement already satisfied: charset-normalizer<4,>=2 in c:\\programdata\\anaconda3\\lib\\site-packages (from requests->transformers) (2.0.4)\n",
      "Requirement already satisfied: urllib3<3,>=1.21.1 in c:\\programdata\\anaconda3\\lib\\site-packages (from requests->transformers) (1.26.16)\n",
      "Requirement already satisfied: oauthlib>=3.0.0 in c:\\users\\global it store\\appdata\\roaming\\python\\python311\\site-packages (from requests-oauthlib>=0.7.0->google-auth-oauthlib) (3.2.2)\n",
      "Requirement already satisfied: colorama in c:\\programdata\\anaconda3\\lib\\site-packages (from tqdm>=4.27->transformers) (0.4.6)\n",
      "Note: you may need to restart the kernel to use updated packages.\n"
     ]
    }
   ],
   "source": [
    "pip install google-auth google-auth-oauthlib google-auth-httplib2 google-api-python-client transformers openai"
   ]
  },
  {
   "cell_type": "code",
   "execution_count": 2,
   "id": "9d412db8",
   "metadata": {},
   "outputs": [
    {
     "name": "stdout",
     "output_type": "stream",
     "text": [
      "Defaulting to user installation because normal site-packages is not writeable\n",
      "Requirement already satisfied: requests in c:\\programdata\\anaconda3\\lib\\site-packages (2.31.0)\n",
      "Requirement already satisfied: charset-normalizer<4,>=2 in c:\\programdata\\anaconda3\\lib\\site-packages (from requests) (2.0.4)\n",
      "Requirement already satisfied: idna<4,>=2.5 in c:\\programdata\\anaconda3\\lib\\site-packages (from requests) (3.4)\n",
      "Requirement already satisfied: urllib3<3,>=1.21.1 in c:\\programdata\\anaconda3\\lib\\site-packages (from requests) (1.26.16)\n",
      "Requirement already satisfied: certifi>=2017.4.17 in c:\\programdata\\anaconda3\\lib\\site-packages (from requests) (2023.7.22)\n"
     ]
    }
   ],
   "source": [
    "!pip install requests\n"
   ]
  },
  {
   "cell_type": "markdown",
   "id": "dc68f9da",
   "metadata": {},
   "source": [
    "### Setting Device to use CPU"
   ]
  },
  {
   "cell_type": "code",
   "execution_count": 3,
   "id": "ce58e4d5",
   "metadata": {},
   "outputs": [
    {
     "name": "stderr",
     "output_type": "stream",
     "text": [
      "Device set to use cpu\n"
     ]
    }
   ],
   "source": [
    "from transformers import pipeline\n",
    "\n",
    "summarizer = pipeline(\"summarization\", model=\"facebook/bart-large-cnn\")\n"
   ]
  },
  {
   "cell_type": "markdown",
   "id": "602c878d",
   "metadata": {},
   "source": [
    "### Importing API_Key "
   ]
  },
  {
   "cell_type": "markdown",
   "id": "79085c7f",
   "metadata": {},
   "source": [
    "import requests\n",
    "import os\n",
    "\n",
    "GROQ_API_KEY = os.getenv(\"GROQ_API_KEY\") or \"Put your GROQ_API_KEY here\"\n"
   ]
  },
  {
   "cell_type": "markdown",
   "id": "d4a16687",
   "metadata": {},
   "source": [
    "### Auttentication for Gmail to use "
   ]
  },
  {
   "cell_type": "code",
   "execution_count": 5,
   "id": "f13f19a0",
   "metadata": {},
   "outputs": [],
   "source": [
    "import os.path\n",
    "import base64\n",
    "import re\n",
    "from email.mime.text import MIMEText\n",
    "from google.auth.transport.requests import Request\n",
    "from google.oauth2.credentials import Credentials\n",
    "from google_auth_oauthlib.flow import InstalledAppFlow\n",
    "from googleapiclient.discovery import build\n",
    "\n",
    "# Scope to read, send, and modify emails\n",
    "SCOPES = [\n",
    "    'https://www.googleapis.com/auth/gmail.readonly',\n",
    "    'https://www.googleapis.com/auth/gmail.modify',\n",
    "    'https://www.googleapis.com/auth/gmail.send'\n",
    "]\n",
    "\n",
    "#SCOPES = ['https://www.googleapis.com/auth/gmail.readonly']\n",
    "\n",
    "\n",
    "def gmail_authenticate():\n",
    "    creds = None\n",
    "    if os.path.exists('token.json'):\n",
    "        creds = Credentials.from_authorized_user_file('token.json', SCOPES)\n",
    "    if not creds or not creds.valid:\n",
    "        if creds and creds.expired and creds.refresh_token:\n",
    "            creds.refresh(Request())\n",
    "        else:\n",
    "            flow = InstalledAppFlow.from_client_secrets_file('credentials.json', SCOPES)\n",
    "            creds = flow.run_local_server(port=0)\n",
    "        with open('token.json', 'w') as token:\n",
    "            token.write(creds.to_json())\n",
    "    return build('gmail', 'v1', credentials=creds)\n"
   ]
  },
  {
   "cell_type": "markdown",
   "id": "1a42466b",
   "metadata": {},
   "source": [
    "### Get and Reading Unread Mails"
   ]
  },
  {
   "cell_type": "code",
   "execution_count": 6,
   "id": "38fddb87",
   "metadata": {},
   "outputs": [],
   "source": [
    "def get_unread_messages(service):\n",
    "    results = service.users().messages().list(userId='me', labelIds=['INBOX'], q=\"is:unread\").execute()\n",
    "    messages = results.get('messages', [])\n",
    "    return messages\n",
    "\n",
    "import re\n",
    "\n",
    "import base64\n",
    "import re\n",
    "\n",
    "def get_email_content(service, msg_id):\n",
    "    msg = service.users().messages().get(userId='me', id=msg_id, format='full').execute()\n",
    "    headers = msg['payload']['headers']\n",
    "\n",
    "    subject = next((h['value'] for h in headers if h['name'] == 'Subject'), \"(No Subject)\")\n",
    "    sender_raw = next((h['value'] for h in headers if h['name'] == 'From'), \"(Unknown Sender)\")\n",
    "\n",
    "    # Extract only the email address\n",
    "    match = re.search(r'<(.+?)>', sender_raw)\n",
    "    sender = match.group(1) if match else sender_raw\n",
    "\n",
    "    # Try getting the body safely\n",
    "    body = \"\"\n",
    "    payload = msg['payload']\n",
    "\n",
    "    if 'parts' in payload:\n",
    "        for part in payload['parts']:\n",
    "            mime_type = part.get('mimeType', '')\n",
    "            if mime_type == 'text/plain' and 'data' in part.get('body', {}):\n",
    "                body = base64.urlsafe_b64decode(part['body']['data']).decode('utf-8')\n",
    "                break\n",
    "    elif 'data' in payload.get('body', {}):\n",
    "        body = base64.urlsafe_b64decode(payload['body']['data']).decode('utf-8')\n",
    "    else:\n",
    "        body = \"(No readable content)\"\n",
    "\n",
    "    return sender, subject, body\n",
    "\n",
    "\n",
    "\n",
    "\n",
    "def send_reply(service, msg_id, thread_id, to, subject, message_text):\n",
    "    from email.mime.text import MIMEText\n",
    "    import base64\n",
    "    import email\n",
    "\n",
    "    message = MIMEText(message_text)\n",
    "    message['to'] = to\n",
    "    message['subject'] = \"Re: \" + subject\n",
    "\n",
    "    raw = base64.urlsafe_b64encode(message.as_bytes()).decode()\n",
    "    body = {\n",
    "        'raw': raw,\n",
    "        'threadId': thread_id  # ✅ use threadId here\n",
    "    }\n",
    "\n",
    "    try:\n",
    "        return service.users().messages().send(userId='me', body=body).execute()\n",
    "    except Exception as e:\n",
    "        print(\"Error sending email:\", e)\n"
   ]
  },
  {
   "cell_type": "markdown",
   "id": "cd1fac6f",
   "metadata": {},
   "source": [
    "### Generating Reply"
   ]
  },
  {
   "cell_type": "code",
   "execution_count": null,
   "id": "11c1c307",
   "metadata": {},
   "outputs": [],
   "source": [
    "def generate_reply(body):\n",
    "    url = \"https://api.groq.com/openai/v1/chat/completions\"\n",
    "    headers = {\n",
    "        \"Authorization\": f\"Bearer {GROQ_API_KEY}\",\n",
    "        \"Content-Type\": \"application/json\"\n",
    "    }\n",
    "    \n",
    "    payload = {\n",
    "    \"model\": \"llama3-8b-8192\",\n",
    "    \"messages\": [\n",
    "        {\n",
    "            \"role\": \"system\",\n",
    "            \"content\": (\n",
    "                \"You are a helpful, polite assistant who writes short, natural-sounding email replies \"\n",
    "                \"as if written by a real person. Do not include phrases like 'Here is a reply' or placeholders like Anees Ur Rehman.\"\n",
    "            )\n",
    "        },\n",
    "        {\n",
    "            \"role\": \"user\",\n",
    "            \"content\": f\"Reply to the following email in a natural, professional tone:\\n\\n{body}\"\n",
    "        }\n",
    "    ],\n",
    "    \"temperature\": 0.7,\n",
    "    \"max_tokens\": 150\n",
    "}\n",
    "\n",
    "\n",
    "    \n",
    "    try:\n",
    "        response = requests.post(url, headers=headers, json=payload)\n",
    "        response.raise_for_status()\n",
    "        return response.json()['choices'][0]['message']['content'].strip()\n",
    "    except Exception as e:\n",
    "        print(\"Groq API error:\", e)\n",
    "        return \"Thank you for your message. We'll get back to you shortly.\"  # Fallback\n"
   ]
  },
  {
   "cell_type": "code",
   "execution_count": null,
   "id": "0e63ad82",
   "metadata": {},
   "outputs": [],
   "source": [
    "def main():\n",
    "    service = gmail_authenticate()\n",
    "    messages = get_unread_messages(service)\n",
    "    print(f\"Found {len(messages)} unread emails.\")\n",
    "\n",
    "    for msg in messages:\n",
    "        msg_id = msg['id']\n",
    "        message = service.users().messages().get(userId='me', id=msg_id, format='full').execute()\n",
    "        thread_id = message['threadId']\n",
    "\n",
    "        sender, subject, body = get_email_content(service, msg_id)\n",
    "\n",
    "        print(f\"Email from {sender}: {subject}\")\n",
    "        print(\"Body:\", body[:100], \"...\\n\")  # Preview body\n",
    "\n",
    "        # ✅ Skip no-reply emails\n",
    "        if \"no-reply\" in sender.lower() or \"noreply\" in sender.lower():\n",
    "            print(f\"Skipped auto-reply to no-reply sender: {sender}\\n\")\n",
    "            continue\n",
    "\n",
    "        summary = generate_reply(body)\n",
    "\n",
    "\n",
    "        send_reply(service, msg_id, thread_id, sender, subject, summary)\n",
    "        print(f\"Replied to: {sender}\\n\")\n",
    "\n",
    "        service.users().messages().modify(\n",
    "            userId='me',\n",
    "            id=msg_id,\n",
    "            body={'removeLabelIds': ['UNREAD']}\n",
    "        ).execute()\n"
   ]
  },
  {
   "cell_type": "code",
   "execution_count": 13,
   "id": "d98075b1",
   "metadata": {},
   "outputs": [
    {
     "name": "stdout",
     "output_type": "stream",
     "text": [
      "Found 4 unread emails.\n",
      "Email from mranees5323@gmail.com: Re: message for knowing your condition\n",
      "Body: Glad to hear it.\n",
      "\n",
      "On Tue, Jun 3, 2025 at 1:40 AM <aneesrehman1747@gmail.com> wrote:\n",
      "\n",
      "> Hi there, ...\n",
      "\n",
      "Replied to: mranees5323@gmail.com\n",
      "\n",
      "Email from no-reply@accounts.google.com: Your Google Account was recovered successfully\n",
      "Body: [image: Google]\n",
      "Account recovered successfully\n",
      "\n",
      "\n",
      "aneesrehman1747@gmail.com\n",
      "Welcome back to your ...\n",
      "\n",
      "Skipped auto-reply to no-reply sender: no-reply@accounts.google.com\n",
      "\n",
      "Email from no-reply@accounts.google.com: Security alert\n",
      "Body: [image: Google]\n",
      "Your password was changed\n",
      "\n",
      "\n",
      "aneesrehman1747@gmail.com\n",
      "The password for your Goo ...\n",
      "\n",
      "Skipped auto-reply to no-reply sender: no-reply@accounts.google.com\n",
      "\n",
      "Email from no-reply@accounts.google.com: Your Google Account was recovered successfully\n",
      "Body: [image: Google]\n",
      "Account recovered successfully\n",
      "\n",
      "\n",
      "aneesrehman1747@gmail.com\n",
      "Welcome back to your ...\n",
      "\n",
      "Skipped auto-reply to no-reply sender: no-reply@accounts.google.com\n",
      "\n"
     ]
    }
   ],
   "source": [
    "if __name__ == '__main__':\n",
    "    main()\n"
   ]
  }
 ],
 "metadata": {
  "kernelspec": {
   "display_name": "Python 3 (ipykernel)",
   "language": "python",
   "name": "python3"
  },
  "language_info": {
   "codemirror_mode": {
    "name": "ipython",
    "version": 3
   },
   "file_extension": ".py",
   "mimetype": "text/x-python",
   "name": "python",
   "nbconvert_exporter": "python",
   "pygments_lexer": "ipython3",
   "version": "3.11.5"
  }
 },
 "nbformat": 4,
 "nbformat_minor": 5
}
